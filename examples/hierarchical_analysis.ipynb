{
 "cells": [
  {
   "cell_type": "code",
   "execution_count": null,
   "metadata": {
    "Collapsed": "false"
   },
   "outputs": [],
   "source": [
    "# Loading libraries\n",
    "import numpy as np\n",
    "import matplotlib\n",
    "%matplotlib inline\n",
    "%config InlineBackend.figure_format='retina'\n",
    "from matplotlib import pyplot as plt\n",
    "import pandas as pd\n",
    "import h5py\n",
    "\n",
    "import bilby\n",
    "from hanabi.hierarchical.source_population_model import *\n",
    "from hanabi.hierarchical.merger_rate_density import *\n",
    "from hanabi.hierarchical.selection_function import *\n",
    "from hanabi.hierarchical.p_z import *\n",
    "from hanabi.lensing.optical_depth import *\n",
    "from hanabi.lensing.absolute_magnification import *\n",
    "from hanabi.hierarchical.marginalized_likelihood import *\n",
    "from hanabi.hierarchical.gibbs_sampling import CustomCollapsedBlockedGibbsSampler\n",
    "from hanabi.hierarchical.reweight_with_population_model import *"
   ]
  },
  {
   "cell_type": "code",
   "execution_count": null,
   "metadata": {
    "Collapsed": "false"
   },
   "outputs": [],
   "source": [
    "defaults_kwargs = {\n",
    "    'bins': 50,\n",
    "    'smooth': 0.9,\n",
    "    'label_kwargs': {'fontsize': 16},\n",
    "    'title_kwargs': {'fontsize': 16},\n",
    "    'color': '#0072C1',\n",
    "    'truth_color': 'tab:orange',\n",
    "    'quantiles': [0.16, 0.84],\n",
    "    'levels': (1 - np.exp(-0.5), 1 - np.exp(-2), 1 - np.exp(-9 / 2.)),\n",
    "    'plot_density': False,\n",
    "    'plot_datapoints': True,\n",
    "    'fill_contours': True,\n",
    "    'max_n_ticks': 3\n",
    "}"
   ]
  },
  {
   "cell_type": "code",
   "execution_count": null,
   "metadata": {
    "Collapsed": "false"
   },
   "outputs": [],
   "source": [
    "# Loading PE results\n",
    "rundir = \"RUNDIR\"\n",
    "event_1 = \"EVENT_1\"\n",
    "event_2 = \"EVENT_2\"\n",
    "\n",
    "single_event_PE_result_path_template = \"{rundir}/{event}_0_reweighted_result.json\"\n",
    "joint_PE_result_path_template = \"{rundir}/joint_{event_1}_{event_2}_0_reweighted_result.json\"\n",
    "\n",
    "result_1 = bilby.result.read_in_result(single_event_PE_result_path_template.format(rundir=rundir, event=event_1))\n",
    "result_2 = bilby.result.read_in_result(single_event_PE_result_path_template.format(rundir=rundir, event=event_2))\n",
    "joint_result = bilby.result.read_in_result(joint_PE_result_path_template.format(rundir=rundir, event_1=event_1, event_2=event_2))"
   ]
  },
  {
   "cell_type": "code",
   "execution_count": null,
   "metadata": {
    "Collapsed": "false"
   },
   "outputs": [],
   "source": [
    "def log_coherence_ratio(joint_result, *single_result):\n",
    "    joint_log_evidence = joint_result.log_evidence\n",
    "    return joint_log_evidence - np.sum([r.log_evidence for r in list(single_result)])\n",
    "\n",
    "lcr = log_coherence_ratio(joint_result, result_1, result_2)\n",
    "print(lcr)"
   ]
  },
  {
   "cell_type": "code",
   "execution_count": null,
   "metadata": {
    "Collapsed": "false"
   },
   "outputs": [],
   "source": [
    "# Setting up the population models\n",
    "mass_src_pop_model = PowerLawComponentMass(alpha=1.8, beta=0, mmin=5, mmax=60)\n",
    "spin_src_pop_model = UniformAlignedSpinComponent()\n",
    "merger_rate_density = BelczynskiEtAl2017PopIPopIIStarsBBHMergerRateDensity()\n",
    "\n",
    "# Setting up the strong lensing models\n",
    "optical_depth = HannukselaEtAl2019OpticalDepth()\n",
    "pz_lensed = LensedSourceRedshiftProbDist(merger_rate_density=merger_rate_density, optical_depth=optical_depth)\n",
    "pz_notlensed = NotLensedSourceRedshiftProbDist(merger_rate_density=merger_rate_density, optical_depth=optical_depth)\n",
    "abs_magnifications = [SISPowerLawAbsoluteMagnification(), SISPowerLawAbsoluteMagnification()]"
   ]
  },
  {
   "cell_type": "code",
   "execution_count": null,
   "metadata": {
    "Collapsed": "false"
   },
   "outputs": [],
   "source": [
    "ncores = 8\n",
    "label = \"marginalize_over_redshift_{}_{}\".format(event_1, event_2)"
   ]
  },
  {
   "cell_type": "code",
   "execution_count": null,
   "metadata": {
    "Collapsed": "false"
   },
   "outputs": [],
   "source": [
    "# Setting up likelihood\n",
    "likelihood = MonteCarloMarginalizedLikelihood(joint_result, mass_src_pop_model, spin_src_pop_model, abs_magnifications)\n",
    "# Marginalizing over redshift for the joint result\n",
    "redshift_result = bilby.run_sampler(likelihood=likelihood, priors={'redshift': pz_lensed}, sampler='dynesty', nlive=1000, nact=30, npool=ncores, sample='unif', outdir=\"marginalization\", label=label)"
   ]
  },
  {
   "cell_type": "code",
   "execution_count": null,
   "metadata": {
    "Collapsed": "false"
   },
   "outputs": [],
   "source": [
    "# Reweighting single-event results with population models\n",
    "reweighting_result_1 = ReweightWithPopulationModel(result_1, mass_src_pop_model, spin_src_pop_model, pz_notlensed)\n",
    "reweighting_result_2 = ReweightWithPopulationModel(result_2, mass_src_pop_model, spin_src_pop_model, pz_notlensed)"
   ]
  },
  {
   "cell_type": "code",
   "execution_count": null,
   "metadata": {
    "Collapsed": "false"
   },
   "outputs": [],
   "source": [
    "# Calculating the proper Bayes factor\n",
    "with h5py.File(\"/home/ka-lok.lo/projects/stronglensing/hanabi/hanabi/hierarchical/pdetclassifier/aLIGOdesign_bbhpop_powerlaw.h5\", \"r\") as f:\n",
    "    log_alpha_sq_over_beta = np.log(f.attrs[\"alpha\"]**2/f.attrs[\"beta\"])\n",
    "\n",
    "log_evidence_ratio = redshift_result.log_evidence - (reweighting_result_1.reweight_ln_evidence() + reweighting_result_2.reweight_ln_evidence())\n",
    "print(log_alpha_sq_over_beta + log_evidence_ratio)"
   ]
  },
  {
   "cell_type": "code",
   "execution_count": null,
   "metadata": {
    "Collapsed": "false"
   },
   "outputs": [],
   "source": [
    "print(log_alpha_sq_over_beta)"
   ]
  },
  {
   "cell_type": "code",
   "execution_count": null,
   "metadata": {
    "Collapsed": "false"
   },
   "outputs": [],
   "source": [
    "print(log_evidence_ratio)"
   ]
  },
  {
   "cell_type": "code",
   "execution_count": null,
   "metadata": {
    "Collapsed": "false"
   },
   "outputs": [],
   "source": [
    "# Gibbs sampling\n",
    "sampler = CustomCollapsedBlockedGibbsSampler(redshift_result, likelihood, pool=ncores)\n",
    "joint_samples = sampler.sample(10000)"
   ]
  },
  {
   "cell_type": "code",
   "execution_count": null,
   "metadata": {
    "Collapsed": "false"
   },
   "outputs": [],
   "source": [
    "joint_samples[\"magnification^(1)\"] = (bilby.gw.conversion.redshift_to_luminosity_distance(joint_samples[\"redshift\"])/joint_samples[\"luminosity_distance^(1)\"])**2\n",
    "joint_samples[\"magnification^(2)\"] = (bilby.gw.conversion.redshift_to_luminosity_distance(joint_samples[\"redshift\"])/joint_samples[\"luminosity_distance^(2)\"])**2\n",
    "joint_samples[\"relative_magnification\"] = joint_samples[\"magnification^(2)\"]/joint_samples[\"magnification^(1)\"]\n",
    "joint_samples[\"mass_1_source\"] = joint_samples[\"mass_1\"]/(1. + joint_samples[\"redshift\"])\n",
    "joint_samples[\"mass_2_source\"] = joint_samples[\"mass_2\"]/(1. + joint_samples[\"redshift\"])\n",
    "joint_samples[\"total_mass_source\"] = joint_samples[\"mass_1_source\"] + joint_samples[\"mass_2_source\"]"
   ]
  },
  {
   "cell_type": "code",
   "execution_count": null,
   "metadata": {
    "Collapsed": "false"
   },
   "outputs": [],
   "source": [
    "import corner\n",
    "plt.rcParams.update({'text.usetex': True})\n",
    "plt.figure(dpi=150)\n",
    "fig = corner.corner(joint_samples[[\"mass_1_source\", \"mass_2_source\", \"total_mass_source\", \"magnification^(1)\", \"magnification^(2)\", \"relative_magnification\", \"redshift\"]], labels=[r'$m_1^{\\rm src}\\;[M_{\\odot}]$', r'$m_2^{\\rm src}\\;[M_{\\odot}]$', r'$M_{\\rm tol}^{\\rm src}\\;[M_{\\odot}]$', r'$\\mu^{(1)}$', r'$\\mu^{(2)}$', r'$\\mu^{(\\rm rel)}$', r'$z$'], **defaults_kwargs)"
   ]
  },
  {
   "cell_type": "code",
   "execution_count": null,
   "metadata": {
    "Collapsed": "false"
   },
   "outputs": [],
   "source": []
  }
 ],
 "metadata": {
  "kernelspec": {
   "display_name": "hanabi-dev",
   "language": "python",
   "name": "hanabi-dev"
  },
  "language_info": {
   "codemirror_mode": {
    "name": "ipython",
    "version": 3
   },
   "file_extension": ".py",
   "mimetype": "text/x-python",
   "name": "python",
   "nbconvert_exporter": "python",
   "pygments_lexer": "ipython3",
   "version": "3.7.6"
  }
 },
 "nbformat": 4,
 "nbformat_minor": 4
}
